{
 "cells": [
  {
   "cell_type": "markdown",
   "id": "f13f5316-2c8c-40ba-87e4-4b0e8e22fd5f",
   "metadata": {},
   "source": [
    "##Name: Vanessa Williams\n",
    "##Week 1: Exercise 1.2"
   ]
  },
  {
   "cell_type": "code",
   "execution_count": 1,
   "id": "0ef77fda-cbcd-4197-aa9f-f9a71fdc7c35",
   "metadata": {},
   "outputs": [],
   "source": [
    "def calculateRMSE(actual,predicted):\n",
    "    n = len(actual) #get the length of the actual array\n",
    "    m = len(predicted) #get the length of the predicted array\n",
    "    #check if the lengths of both arrays are the same. if not, print an error message and stop\n",
    "    if n != m: \n",
    "        print(\"Actual and predicted arrays should have the same length.\") \n",
    "        return -1\n",
    "    #create a variable, total to keep track of the sum of all terms\n",
    "    total = 0 #initialize the total variable to zero\n",
    "    #create a for loop to calculate the some of the square of the error\n",
    "    for i in range(n):\n",
    "        total = total + (predicted[i] - actual[i])**2\n",
    "    #calculate total / n\n",
    "    rooterror = total / n\n",
    "    #calculate the square root of the total error to obtain the root mean square error\n",
    "    rmse = rooterror**0.5\n",
    "    #return the root square error\n",
    "    return rmse\n",
    "    "
   ]
  },
  {
   "cell_type": "code",
   "execution_count": 3,
   "id": "903af4bd-cb77-44e6-9953-11c1a4fdbef3",
   "metadata": {},
   "outputs": [],
   "source": [
    "#part b\n",
    "import pandas as pd\n",
    "#import the pandas library"
   ]
  },
  {
   "cell_type": "code",
   "execution_count": 5,
   "id": "451baf5c-b2ec-4865-a86b-10f2a228e84e",
   "metadata": {},
   "outputs": [
    {
     "name": "stdout",
     "output_type": "stream",
     "text": [
      "      sqft  sale_price  sale_price_pred\n",
      "0     2416      208500      215635.4687\n",
      "1     2240      181500      202432.1633\n",
      "2     2272      223500      204832.7643\n",
      "3     1933      140000      179401.3976\n",
      "4     2853      250000      248418.6758\n",
      "...    ...         ...              ...\n",
      "1455  1647      175000      157946.0263\n",
      "1456  2863      210000      249168.8636\n",
      "1457  2615      266500      230564.2060\n",
      "1458  1127      142125      118936.2604\n",
      "1459  2086      147500      190879.2710\n",
      "\n",
      "[1460 rows x 3 columns]\n"
     ]
    }
   ],
   "source": [
    "#import housing dataset. call it housingdata\n",
    "housingdata = pd.read_csv(\"housing_data1.csv\")\n",
    "#print the top five and the bottom five records of the housingdata\n",
    "print(housingdata)"
   ]
  },
  {
   "cell_type": "code",
   "execution_count": 7,
   "id": "8c6ee85f-7fef-4f4b-b707-53197c4867e8",
   "metadata": {},
   "outputs": [
    {
     "name": "stdout",
     "output_type": "stream",
     "text": [
      "0       208500\n",
      "1       181500\n",
      "2       223500\n",
      "3       140000\n",
      "4       250000\n",
      "         ...  \n",
      "1455    175000\n",
      "1456    210000\n",
      "1457    266500\n",
      "1458    142125\n",
      "1459    147500\n",
      "Name: sale_price, Length: 1460, dtype: int64\n"
     ]
    }
   ],
   "source": [
    "#extract the acutal and predicted data from the data frame\n",
    "actual = housingdata[\"sale_price\"]\n",
    "predicted = housingdata[\"sale_price_pred\"]\n",
    "#print actual data\n",
    "print(actual)"
   ]
  },
  {
   "cell_type": "code",
   "execution_count": 9,
   "id": "b60e2802-715f-4818-a220-2bc559af4781",
   "metadata": {},
   "outputs": [
    {
     "name": "stdout",
     "output_type": "stream",
     "text": [
      "0       215635.4687\n",
      "1       202432.1633\n",
      "2       204832.7643\n",
      "3       179401.3976\n",
      "4       248418.6758\n",
      "           ...     \n",
      "1455    157946.0263\n",
      "1456    249168.8636\n",
      "1457    230564.2060\n",
      "1458    118936.2604\n",
      "1459    190879.2710\n",
      "Name: sale_price_pred, Length: 1460, dtype: float64\n"
     ]
    }
   ],
   "source": [
    "#print the predicted data\n",
    "print(predicted)"
   ]
  },
  {
   "cell_type": "code",
   "execution_count": 11,
   "id": "1d8ab1a1-9aab-40dc-9acf-c1a5178ac12d",
   "metadata": {},
   "outputs": [],
   "source": [
    "#call calculateRMSE function to calculate the root mean square\n",
    "rmsevalue = calculateRMSE(actual,predicted)"
   ]
  },
  {
   "cell_type": "raw",
   "id": "8cdaec77-a732-40e9-b080-1cb8a7b54c45",
   "metadata": {},
   "source": []
  },
  {
   "cell_type": "code",
   "execution_count": 13,
   "id": "499f6860-b744-40e8-9042-1853102acee4",
   "metadata": {},
   "outputs": [
    {
     "name": "stdout",
     "output_type": "stream",
     "text": [
      "The root mean is square error =  55064.068833898666\n"
     ]
    }
   ],
   "source": [
    "#print the root mean square\n",
    "print(\"The root mean is square error = \", rmsevalue)"
   ]
  },
  {
   "cell_type": "code",
   "execution_count": 15,
   "id": "59728d02-836d-4218-acf6-c3bcbcb21a9b",
   "metadata": {},
   "outputs": [],
   "source": [
    "#problem 2\n"
   ]
  },
  {
   "cell_type": "code",
   "execution_count": 17,
   "id": "505010af-6b72-474c-9a3e-c7e1b2e6a850",
   "metadata": {},
   "outputs": [],
   "source": [
    "def calculateMAE(actual,predicted):\n",
    "    n = len(actual) #get the length of the actual array\n",
    "    m = len(predicted) #get the length of the predicted array\n",
    "    #check if the lengths of both arrays are the same. if not, print an error message and stop\n",
    "    if n != m: \n",
    "        print(\"Actual and predicted arrays should have the same length.\") \n",
    "        return -1\n",
    "    #create a variable, total to keep track of the sum of all terms\n",
    "    total = 0 #initialize the total variable to zero\n",
    "    #create a for loop to calculate the mean absolute error\n",
    "    for i in range(n):\n",
    "        total = total + abs(predicted[i] - actual[i])\n",
    "    #calculate total / n\n",
    "    maeerror = total / n\n",
    "    #calculate the mean absolute error of the total error to obtain mean absolute error\n",
    "    mae = maeerror\n",
    "    #return the mean absolute error\n",
    "    return mae\n",
    "    "
   ]
  },
  {
   "cell_type": "code",
   "execution_count": null,
   "id": "6358d499-7b60-4d3f-b06e-5cbbede5ae95",
   "metadata": {},
   "outputs": [],
   "source": []
  },
  {
   "cell_type": "code",
   "execution_count": null,
   "id": "040fc322-5c47-4c69-8d80-d360a84627e9",
   "metadata": {},
   "outputs": [],
   "source": [
    "#problem 2 part b"
   ]
  },
  {
   "cell_type": "code",
   "execution_count": 23,
   "id": "2ca86848-05cc-4462-974c-4a7617cff496",
   "metadata": {},
   "outputs": [],
   "source": [
    "#call calculateMAE function to calculate the mean absolute error\n",
    "maevalue = calculateMAE(actual,predicted)"
   ]
  },
  {
   "cell_type": "code",
   "execution_count": 25,
   "id": "2d024b9b-018e-481c-990e-98dca4a37ebd",
   "metadata": {},
   "outputs": [
    {
     "name": "stdout",
     "output_type": "stream",
     "text": [
      "The mean absolute error =  37438.689162705436\n"
     ]
    }
   ],
   "source": [
    "#print the mean absolute error\n",
    "print(\"The mean absolute error = \", maevalue)"
   ]
  },
  {
   "cell_type": "markdown",
   "id": "ebc6dceb-9493-45d1-96ad-62f57441aef8",
   "metadata": {},
   "source": [
    "#problem 3"
   ]
  },
  {
   "cell_type": "code",
   "execution_count": 31,
   "id": "689dfc69-7709-403b-8ebf-104f9a1fb5a4",
   "metadata": {},
   "outputs": [],
   "source": [
    "#write a function to calculate the accuracy\n",
    "def calculateaccuracy(actual, predicted) :\n",
    "    #get the length of the actual array\n",
    "    n = len(actual)\n",
    "    #get the length of the predicted array\n",
    "    m = len(predicted)\n",
    "    #create a variable to keep track of matching values in actual and predicted. Initialize it to zero \n",
    "    totalcorrect = 0\n",
    "    #check if the length of the actual is zero. If so print the error message and exit\n",
    "    if n == 0:\n",
    "        print(\"Empty arrays are not allowed.\")\n",
    "        return -1\n",
    "    #check if both arrays are the same length. If not print error message and exit\n",
    "    if n != m :\n",
    "        print(\"The actual and predicted should have the same lengths.\")\n",
    "        return -1\n",
    "    #use the for loop to calculate the number of matching values actual and predicted\n",
    "    for i in range(n):\n",
    "        if actual[i] == predicted[i]:\n",
    "            totalcorrect = totalcorrect + 1\n",
    "    #calculate the accuracy by dividing total correct by total number of elements\n",
    "    accuracy = totalcorrect / n\n",
    "    #return the accuracy\n",
    "    return accuracy\n",
    "        "
   ]
  },
  {
   "cell_type": "markdown",
   "id": "7c45f506-fcdb-48d9-a374-5d783acc5309",
   "metadata": {},
   "source": [
    "#problem 3 part b"
   ]
  },
  {
   "cell_type": "code",
   "execution_count": 36,
   "id": "e9af0dcb-b972-4cd5-a2ca-64afcdbdf6ed",
   "metadata": {},
   "outputs": [
    {
     "name": "stdout",
     "output_type": "stream",
     "text": [
      "     actual predicted\n",
      "0         p         p\n",
      "1         e         e\n",
      "2         e         e\n",
      "3         p         p\n",
      "4         e         p\n",
      "...     ...       ...\n",
      "8119      e         p\n",
      "8120      e         p\n",
      "8121      e         p\n",
      "8122      p         p\n",
      "8123      e         p\n",
      "\n",
      "[8124 rows x 2 columns]\n"
     ]
    }
   ],
   "source": [
    "mushroomdata = pd.read_csv(\"mushroom_data.csv\")\n",
    "print(mushroomdata)"
   ]
  },
  {
   "cell_type": "code",
   "execution_count": 38,
   "id": "696cfe4a-7cd6-4b5f-96e7-7c8128986900",
   "metadata": {},
   "outputs": [],
   "source": [
    "mushroomaccuracy = calculateaccuracy(mushroomdata[\"actual\"], mushroomdata[\"predicted\"])"
   ]
  },
  {
   "cell_type": "code",
   "execution_count": 40,
   "id": "1d933a36-3228-471d-9b2f-bc0fc7277d82",
   "metadata": {},
   "outputs": [
    {
     "name": "stdout",
     "output_type": "stream",
     "text": [
      "The accuracy of the mushroom data =  0.8471196454948301\n"
     ]
    }
   ],
   "source": [
    "print(\"The accuracy of the mushroom data = \", mushroomaccuracy)"
   ]
  },
  {
   "cell_type": "markdown",
   "id": "9e8b7449-b737-40ef-a8d8-de81fcdc752c",
   "metadata": {},
   "source": [
    "#problem 4 "
   ]
  },
  {
   "cell_type": "code",
   "execution_count": 43,
   "id": "2c962b22-bcab-4eb1-8ab5-647699e4de70",
   "metadata": {},
   "outputs": [],
   "source": [
    "def f(p):\n",
    "    val = (0.005 * pow(p,6)) - (0.275 * pow(p,5)) + (5.998 * pow(p,4)) - (69.919 * pow(p,3)) + (449.17 * pow(p,2)) - (1499.7 * p) + (2028)\n",
    "    return val"
   ]
  },
  {
   "cell_type": "code",
   "execution_count": 45,
   "id": "964d7bf9-0caf-4ec5-8bd4-dc169f2c918f",
   "metadata": {},
   "outputs": [
    {
     "name": "stderr",
     "output_type": "stream",
     "text": [
      "Matplotlib is building the font cache; this may take a moment.\n"
     ]
    }
   ],
   "source": [
    "import numpy as np\n",
    "import matplotlib.pyplot as plt"
   ]
  },
  {
   "cell_type": "code",
   "execution_count": 73,
   "id": "592c2914-cd0e-447b-b144-45b29c05ec31",
   "metadata": {},
   "outputs": [],
   "source": [
    "pvalues = np.linspace(-10, 10, 50, endpoint = True)\n",
    "yvalues = []\n",
    "n = len(pvalues)"
   ]
  },
  {
   "cell_type": "code",
   "execution_count": 75,
   "id": "b600413d-92fd-4ff8-9a8a-fd0cb9e8676e",
   "metadata": {},
   "outputs": [
    {
     "name": "stdout",
     "output_type": "stream",
     "text": [
      "[-10.          -9.59183673  -9.18367347  -8.7755102   -8.36734694\n",
      "  -7.95918367  -7.55102041  -7.14285714  -6.73469388  -6.32653061\n",
      "  -5.91836735  -5.51020408  -5.10204082  -4.69387755  -4.28571429\n",
      "  -3.87755102  -3.46938776  -3.06122449  -2.65306122  -2.24489796\n",
      "  -1.83673469  -1.42857143  -1.02040816  -0.6122449   -0.20408163\n",
      "   0.20408163   0.6122449    1.02040816   1.42857143   1.83673469\n",
      "   2.24489796   2.65306122   3.06122449   3.46938776   3.87755102\n",
      "   4.28571429   4.69387755   5.10204082   5.51020408   5.91836735\n",
      "   6.32653061   6.73469388   7.14285714   7.55102041   7.95918367\n",
      "   8.36734694   8.7755102    9.18367347   9.59183673  10.        ]\n"
     ]
    }
   ],
   "source": [
    "print(pvalues)"
   ]
  },
  {
   "cell_type": "code",
   "execution_count": 77,
   "id": "ef84201d-e2f7-4b37-b2a6-dcef46d9b49f",
   "metadata": {},
   "outputs": [
    {
     "name": "stdout",
     "output_type": "stream",
     "text": [
      "50\n"
     ]
    }
   ],
   "source": [
    "print(n)"
   ]
  },
  {
   "cell_type": "code",
   "execution_count": 79,
   "id": "74c570b4-0520-49f8-be88-015e8e0f1b4c",
   "metadata": {},
   "outputs": [],
   "source": [
    "for i in range(n):\n",
    "    y = f(pvalues[i])\n",
    "    yvalues.append(y)"
   ]
  },
  {
   "cell_type": "code",
   "execution_count": 81,
   "id": "814f041b-eb32-48a2-94e2-7ed53b5a6769",
   "metadata": {},
   "outputs": [
    {
     "name": "stdout",
     "output_type": "stream",
     "text": [
      "[224341.0, 196432.38764829133, 171468.60013209935, 149196.48846483295, 129379.52660811268, 111797.07142499175, 96243.63927902901, 82528.19927921188, 70473.48317073021, 59915.311871600636, 50701.93865514177, 42693.408978300184, 35760.93695582677, 29786.29848030397, 24661.240988023696, 20286.90987071593, 16573.291533127907, 13438.673096454091, 10809.118747616758, 8617.962734397346, 6805.319006418396, 5317.607501976218, 4107.097080724245, 3131.4651022070775, 2353.3736502451607, 1740.062403170201, 1262.9581499112346, 897.3009519313848, 621.786951015308, 418.22782290730675, 271.2268768001409, 167.87180067451527, 97.4440524892475, 51.14489722212147, 21.838089761418814, 3.8092036481393734, -7.4583943310935865, -15.490923700472194, -23.01492400070947, -32.131342644119286, -44.47297691897438, -61.34527014320156, -83.8504619673804, -112.99509282705912, -149.78086254443042, -195.27884307926251, -250.68704542915475, -317.3713406791758, -396.88973520079344, -491.0]\n"
     ]
    }
   ],
   "source": [
    "print(yvalues)"
   ]
  },
  {
   "cell_type": "code",
   "execution_count": 88,
   "id": "1ee3f834-dafc-4e78-a07a-5514404dc567",
   "metadata": {},
   "outputs": [
    {
     "data": {
      "text/plain": [
       "224341.0"
      ]
     },
     "execution_count": 88,
     "metadata": {},
     "output_type": "execute_result"
    }
   ],
   "source": [
    "max(yvalues)"
   ]
  },
  {
   "cell_type": "code",
   "execution_count": 91,
   "id": "f7f1250a-d818-4b79-84d4-219acc024c72",
   "metadata": {},
   "outputs": [
    {
     "data": {
      "text/plain": [
       "-491.0"
      ]
     },
     "execution_count": 91,
     "metadata": {},
     "output_type": "execute_result"
    }
   ],
   "source": [
    "min(yvalues)"
   ]
  },
  {
   "cell_type": "code",
   "execution_count": null,
   "id": "8d20ceb0-4a87-46d0-b1da-85d9ac902165",
   "metadata": {},
   "outputs": [],
   "source": []
  },
  {
   "cell_type": "code",
   "execution_count": 99,
   "id": "4c9df090-017b-483b-b9fb-4ef6d22184e5",
   "metadata": {},
   "outputs": [
    {
     "data": {
      "text/plain": [
       "50"
      ]
     },
     "execution_count": 99,
     "metadata": {},
     "output_type": "execute_result"
    }
   ],
   "source": [
    "len(yvalues)"
   ]
  },
  {
   "cell_type": "markdown",
   "id": "b31e37d1-ce0b-400b-a812-703453bbffd6",
   "metadata": {},
   "source": [
    "#problem 4 part 1"
   ]
  },
  {
   "cell_type": "code",
   "execution_count": 107,
   "id": "9d2c1f3f-68b2-4ea8-9d82-5df1027f8847",
   "metadata": {},
   "outputs": [
    {
     "data": {
      "image/png": "[encoded data removed]",
      "text/plain": [
       "<Figure size 800x800 with 1 Axes>"
      ]
     },
     "metadata": {},
     "output_type": "display_data"
    }
   ],
   "source": [
    "plt.figure(figsize = (8, 8))\n",
    "plt.plot(pvalues, yvalues)\n",
    "plt.ylim(-50000, 224350)\n",
    "plt.show()"
   ]
  },
  {
   "cell_type": "markdown",
   "id": "27823089-cf71-4a4d-b685-f8c268646006",
   "metadata": {},
   "source": [
    "#problem 4 part b"
   ]
  },
  {
   "cell_type": "markdown",
   "id": "455fbbba-6be7-40e6-aa3b-590e747a2860",
   "metadata": {},
   "source": [
    "#Used the graph to find the minimum error. this minimum error occurs when p is equal to approximately 10.0"
   ]
  },
  {
   "cell_type": "markdown",
   "id": "49ebded7-20a3-4a1f-ad2f-67831324baea",
   "metadata": {},
   "source": [
    "#problem 4 part c"
   ]
  },
  {
   "cell_type": "markdown",
   "id": "91070d16-22b3-4374-98b7-30ecc4131831",
   "metadata": {},
   "source": [
    "#By looking at the graph, it appears that the minimum value of the error is 0 when p is equal to 10.0"
   ]
  }
 ],
 "metadata": {
  "kernelspec": {
   "display_name": "Python 3 (ipykernel)",
   "language": "python",
   "name": "python3"
  },
  "language_info": {
   "codemirror_mode": {
    "name": "ipython",
    "version": 3
   },
   "file_extension": ".py",
   "mimetype": "text/x-python",
   "name": "python",
   "nbconvert_exporter": "python",
   "pygments_lexer": "ipython3",
   "version": "3.11.7"
  }
 },
 "nbformat": 4,
 "nbformat_minor": 5
}
