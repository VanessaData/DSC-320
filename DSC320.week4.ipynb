{
 "cells": [
  {
   "cell_type": "markdown",
   "id": "744b4347-5e8f-4a70-850a-c7574dc00a95",
   "metadata": {},
   "source": [
    "# Vanessa Williams"
   ]
  },
  {
   "cell_type": "markdown",
   "id": "888e34b0-e21d-4248-b1c7-503d403e7b86",
   "metadata": {},
   "source": [
    "## DSC320 Week 4"
   ]
  },
  {
   "cell_type": "code",
   "execution_count": 7,
   "id": "36f5bc6b-4fbe-4289-9350-fec4253b7b3d",
   "metadata": {},
   "outputs": [],
   "source": [
    "import numpy as np\n",
    "import sympy as sp"
   ]
  },
  {
   "cell_type": "markdown",
   "id": "2b4eb1b0-123c-452d-a858-324091415f65",
   "metadata": {},
   "source": [
    "### Calculating Limits Numerically"
   ]
  },
  {
   "cell_type": "code",
   "execution_count": 13,
   "id": "cd5e546e-c401-4c1e-80e5-b3c90d256e91",
   "metadata": {},
   "outputs": [
    {
     "name": "stdout",
     "output_type": "stream",
     "text": [
      "f(2.9) = 38.178\n",
      "f(2.99) = 42.50179800000001\n",
      "f(2.999) = 42.95001799800001\n",
      "f(3.0) = 43.0\n",
      "f(3.01) = 43.50180199999999\n",
      "f(3.001) = 43.050018001999995\n",
      "f(3.1) = 48.18200000000001\n"
     ]
    }
   ],
   "source": [
    "#creating function f(x)\n",
    "def f(x):\n",
    "   return 2 * (x**3) - 4 * x + 1\n",
    "\n",
    "#values of x approaching 3 from both sides\n",
    "x_values = [2.9,2.99,2.999,3.0,3.01,3.001,3.1]\n",
    "\n",
    "#evaluating the results of f(x) at these specific values\n",
    "results = {x: f(x) for x in x_values}\n",
    "for x, fx in results.items():\n",
    "\n",
    "#printing results    \n",
    "    print(f'f({x}) = {fx}')"
   ]
  },
  {
   "cell_type": "markdown",
   "id": "e143aa3c-11ab-4f7b-89cd-b4bac450c6ab",
   "metadata": {},
   "source": [
    "#### Outcome: The limit is consistent with the direct substitution of x=3"
   ]
  },
  {
   "cell_type": "code",
   "execution_count": 17,
   "id": "f43ce892-280c-4bee-af2f-daa4c32c0a2c",
   "metadata": {},
   "outputs": [
    {
     "name": "stdout",
     "output_type": "stream",
     "text": [
      "g(-1e-05) = 0.9999950000172396\n",
      "g(-1e-06) = 0.9999994999843054\n",
      "g(-1e-07) = 0.999999949513608\n",
      "g(1e-07) = 1.0000000494336803\n",
      "g(1e-06) = 1.0000004999621837\n",
      "g(1e-05) = 1.000005000006965\n"
     ]
    }
   ],
   "source": [
    "#creating function g(x)\n",
    "def g(x):\n",
    "    return (np.exp(x) - 1) / x\n",
    "\n",
    "#values of x approaching 0 from both sides to see the behaviour\n",
    "x_ = np.array([-1e-5,-1e-6,-1e-7,1e-7,1e-6,1e-5])\n",
    "\n",
    "#evaluating g(x) at these specific values\n",
    "g_values = g(x_)\n",
    "for x, g_val in zip(x_, g_values):\n",
    "\n",
    "#printing results   \n",
    "    print(f'g({x}) = {g_val}')"
   ]
  },
  {
   "cell_type": "markdown",
   "id": "9b337261-a3a6-4055-96ee-49fe147f2b6d",
   "metadata": {},
   "source": [
    "#### Outcome: The limit of g(x) as x approaches 0 is known to be 1, based on the Taylor series expansion\n",
    "#### e^x"
   ]
  },
  {
   "cell_type": "markdown",
   "id": "45094a39-e801-4ccf-9067-c90a15e1ec7b",
   "metadata": {},
   "source": [
    "## Average Rate of Change"
   ]
  },
  {
   "cell_type": "markdown",
   "id": "c918c657-4b0a-4006-a108-807f11b0ccf0",
   "metadata": {},
   "source": [
    "#### Defining the function f(x) = 3x²\n",
    "#### Calculating f(a) and f(b)\n",
    "#### Calculating the average rate of change\n",
    "#### printing value"
   ]
  },
  {
   "cell_type": "code",
   "execution_count": 31,
   "id": "23524976-caa1-456a-b329-11c3e209c78c",
   "metadata": {},
   "outputs": [
    {
     "name": "stdout",
     "output_type": "stream",
     "text": [
      "18.0\n"
     ]
    }
   ],
   "source": [
    "def average_rate_of_change(a,b):\n",
    "    def f(x):\n",
    "        return 3 * (x**2)\n",
    "    fa = f(a)\n",
    "    fb = f(b)    \n",
    "    average_rate = (fb-fa) / (b-a)\n",
    "    return average_rate\n",
    "a = 2\n",
    "b = 4\n",
    "result = average_rate_of_change(a,b)\n",
    "print(result)"
   ]
  },
  {
   "cell_type": "markdown",
   "id": "608f8c39-1f0e-484f-9067-2a0d07dcc1a3",
   "metadata": {},
   "source": [
    "#### Outcome: Function returns the computed average rate of change"
   ]
  },
  {
   "cell_type": "markdown",
   "id": "65916317-6bf9-46b9-ab5d-8cd52aafa40b",
   "metadata": {},
   "source": [
    "## Average Rate of Change to Instantaneous Rate of Change"
   ]
  },
  {
   "cell_type": "markdown",
   "id": "8ecd8850-1ded-4c25-a13f-9a2613848375",
   "metadata": {},
   "source": [
    "#### A-C:\n",
    "#### Defining the function f(x) = 4.9t²\n",
    "#### Calculating f(x) and f(y)\n",
    "#### Calculating the average rate of change\n",
    "#### Printing the results with the given values\n"
   ]
  },
  {
   "cell_type": "code",
   "execution_count": 44,
   "id": "cc8cba07-b40f-46a1-9a62-64c760a1dbce",
   "metadata": {},
   "outputs": [
    {
     "name": "stdout",
     "output_type": "stream",
     "text": [
      "Average rate of change of distance:  53.9\n",
      "Average rate of change of distance:  51.45\n",
      "Average rate of change of distance:  49.49\n"
     ]
    }
   ],
   "source": [
    "def avg_rate_of_change(x,y):\n",
    "    def f(t):\n",
    "        return 4.9 * (t**2)\n",
    "    fx = f(x)\n",
    "    fy = f(y)\n",
    "    average_rate = (fy-fx) / (y-x)\n",
    "    return average_rate\n",
    "print('Average rate of change of distance: ', round(avg_rate_of_change(5,6), 2))\n",
    "print('Average rate of change of distance: ', round(avg_rate_of_change(5,5.5),2))\n",
    "print('Average rate of change of distance: ', round(avg_rate_of_change(5,5.1),2))"
   ]
  },
  {
   "cell_type": "markdown",
   "id": "2b7e73c5-9539-4dc7-b615-019c7fc92370",
   "metadata": {},
   "source": [
    "#### D-F:\n",
    "#### Defining the variable and function\n",
    "#### Computing the derivative at t = 5\n",
    "#### Evaluating the derivative at t = 5 -printing the variable holding the derivative\n",
    "#### Calculating derivative of f at t = 5\n"
   ]
  },
  {
   "cell_type": "code",
   "execution_count": 48,
   "id": "90f38bf2-32e4-4b08-bfbf-01d0b721f6ac",
   "metadata": {},
   "outputs": [
    {
     "name": "stdout",
     "output_type": "stream",
     "text": [
      "Instantaneous Rate of Change:  49.0000000000000\n",
      "Derivative of f:  9.8*t\n",
      "Derivative of f at t = 5: 49.0\n"
     ]
    }
   ],
   "source": [
    "t = sp.symbols('t')\n",
    "f = 4.9 * (t**2)\n",
    "f_prime = sp.diff(f,t)\n",
    "inst_rate_of_change = f_prime.subs(t,5)\n",
    "derivative_at_5 = 9.8 * 5\n",
    "print('Instantaneous Rate of Change: ', inst_rate_of_change)\n",
    "print('Derivative of f: ',f_prime)\n",
    "print('Derivative of f at t = 5:',derivative_at_5)"
   ]
  },
  {
   "cell_type": "markdown",
   "id": "b92889e1-321b-4264-badc-98c8333f1693",
   "metadata": {},
   "source": [
    "#### Outcome: 49 meters per second is the Instantaneous speed of the baseball"
   ]
  },
  {
   "cell_type": "markdown",
   "id": "0044a56f-0f63-431e-ac65-fa39e081cbec",
   "metadata": {},
   "source": [
    "##  Calculating and Interpreting Partial Derivatives"
   ]
  },
  {
   "cell_type": "markdown",
   "id": "8d7e9b47-7b0b-4bd0-aed3-02aa69b15f09",
   "metadata": {},
   "source": [
    "#### A:\n",
    "#### Defining the values for the condition c and age y\n",
    "#### Defining the coefficient and intercept from the model\n",
    "#### Calculating the predicting selling price"
   ]
  },
  {
   "cell_type": "code",
   "execution_count": 53,
   "id": "3be10c41-2d87-42fb-b864-9d012f19ff99",
   "metadata": {},
   "outputs": [
    {
     "name": "stdout",
     "output_type": "stream",
     "text": [
      "The predicted selling price is: $ 26200\n"
     ]
    }
   ],
   "source": [
    "condition = 8\n",
    "age = 5\n",
    "intercept = 16000\n",
    "coefficient_of_condition = 2400\n",
    "coefficient_of_age = 1800\n",
    "predicted_price = intercept + (coefficient_of_condition * condition) - (coefficient_of_age * age)\n",
    "print('The predicted selling price is: $', predicted_price)"
   ]
  },
  {
   "cell_type": "markdown",
   "id": "e7ce6039-4610-4192-b901-1cee23f70bd5",
   "metadata": {},
   "source": [
    "#### B:\n",
    "#### Defining the symbols\n",
    "#### Defining the function\n",
    "#### Calculating the partial derivative of P with respect to C Outcome: It indicates that for each one-point increase in the rating, the predicted value of the vehicle appreciates by by $2400"
   ]
  },
  {
   "cell_type": "code",
   "execution_count": 56,
   "id": "9f0ab34e-6763-4f48-bba6-dd2de86b5708",
   "metadata": {},
   "outputs": [
    {
     "name": "stdout",
     "output_type": "stream",
     "text": [
      "The partial derivative of P with respect to C:  2400\n"
     ]
    }
   ],
   "source": [
    "C, Y = sp.symbols('C Y')\n",
    "P = 1600 + 2400 * C - 1800 * Y\n",
    "partial_derivative = sp.diff(P,C)\n",
    "print('The partial derivative of P with respect to C: ', partial_derivative)"
   ]
  },
  {
   "cell_type": "markdown",
   "id": "de924013-e4f6-4900-beba-117cf923f462",
   "metadata": {},
   "source": [
    "#### C: \n",
    "#### Calculating the partial derivative of P with respect to Y Outcome: The value indicates that for each additional year of the car’s age, the predicted value depreciates by $1800"
   ]
  },
  {
   "cell_type": "code",
   "execution_count": 60,
   "id": "9337940c-e3d7-4d0b-8ed3-8221e3227020",
   "metadata": {},
   "outputs": [
    {
     "name": "stdout",
     "output_type": "stream",
     "text": [
      "The partial derivative of P with respect to y:  -1800\n"
     ]
    }
   ],
   "source": [
    "partial_deriv = sp.diff(P,Y)\n",
    "print('The partial derivative of P with respect to y: ', partial_deriv)"
   ]
  }
 ],
 "metadata": {
  "kernelspec": {
   "display_name": "Python 3 (ipykernel)",
   "language": "python",
   "name": "python3"
  },
  "language_info": {
   "codemirror_mode": {
    "name": "ipython",
    "version": 3
   },
   "file_extension": ".py",
   "mimetype": "text/x-python",
   "name": "python",
   "nbconvert_exporter": "python",
   "pygments_lexer": "ipython3",
   "version": "3.11.7"
  }
 },
 "nbformat": 4,
 "nbformat_minor": 5
}
