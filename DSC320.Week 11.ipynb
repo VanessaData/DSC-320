{
 "cells": [
  {
   "cell_type": "markdown",
   "id": "f6438a7d-07ba-4736-a7b3-811f36a30cd6",
   "metadata": {},
   "source": [
    "# Vanessa Williams\n",
    "# Week 11"
   ]
  },
  {
   "cell_type": "code",
   "execution_count": 2,
   "id": "f3f1c392-e5c2-4848-8c4f-9e6e852922b9",
   "metadata": {},
   "outputs": [],
   "source": [
    "from scipy import stats"
   ]
  },
  {
   "cell_type": "markdown",
   "id": "af61706a-8440-4c25-8149-4bf12e303474",
   "metadata": {},
   "source": [
    "#### 1a"
   ]
  },
  {
   "cell_type": "code",
   "execution_count": 4,
   "id": "8d7951f9-6b22-42fc-bd95-7b41069614d4",
   "metadata": {},
   "outputs": [
    {
     "name": "stdout",
     "output_type": "stream",
     "text": [
      "Ensemble Model Accuracy: 0.8513\n"
     ]
    }
   ],
   "source": [
    "from scipy.stats import binom\n",
    "\n",
    "# Define parameters\n",
    "n_models = 15       # Number of models\n",
    "accuracy = 0.63     # Accuracy of each individual model\n",
    "majority = n_models // 2 + 1  # Majority threshold (8 or more)\n",
    "\n",
    "# Calculate the probability that the ensemble model is correct\n",
    "ensemble_accuracy = sum(binom.pmf(k, n_models, accuracy) for k in range(majority, n_models + 1))\n",
    "\n",
    "print(f\"Ensemble Model Accuracy: {ensemble_accuracy:.4f}\")"
   ]
  },
  {
   "cell_type": "markdown",
   "id": "c0abf050-6a7a-4a3c-b95f-4d5b85dfc3c0",
   "metadata": {},
   "source": [
    "#### 1b"
   ]
  },
  {
   "cell_type": "code",
   "execution_count": 13,
   "id": "06a2ae14-6a42-4e08-b89d-1145092e71a4",
   "metadata": {},
   "outputs": [
    {
     "name": "stdout",
     "output_type": "stream",
     "text": [
      "Minimum individual model accuracy needed for 95% ensemble accuracy: 70%\n"
     ]
    }
   ],
   "source": [
    "# Function to calculate ensemble accuracy for a given individual model accuracy\n",
    "def calculate_ensemble_accuracy(individual_accuracy):\n",
    "    return sum(binom.pmf(k, n_models, individual_accuracy) for k in range(majority, n_models + 1))\n",
    "\n",
    "# Binary search for the minimum accuracy that achieves 95% ensemble accuracy\n",
    "low, high = 0.5, 1.0  # Starting range for individual model accuracy\n",
    "required_accuracy = None\n",
    "\n",
    "while low <= high:\n",
    "    mid = (low + high) / 2\n",
    "    ensemble_accuracy = calculate_ensemble_accuracy(mid)\n",
    "    \n",
    "    if ensemble_accuracy >= target_accuracy:\n",
    "        required_accuracy = mid\n",
    "        high = mid - 0.01  # Narrow the range downwards\n",
    "    else:\n",
    "        low = mid + 0.01  # Increase the lower bound\n",
    "\n",
    "# Convert to the smallest whole number percentage\n",
    "required_accuracy_percent = int(required_accuracy * 100)\n",
    "\n",
    "print(f\"Minimum individual model accuracy needed for 95% ensemble accuracy: {required_accuracy_percent}%\")"
   ]
  },
  {
   "cell_type": "markdown",
   "id": "742e8288-4d6c-47c9-a2e3-8cfaa8e123ee",
   "metadata": {},
   "source": [
    "#### 1c"
   ]
  },
  {
   "cell_type": "code",
   "execution_count": 16,
   "id": "9e1afa41-b5a2-4b0d-986b-a8a24182926e",
   "metadata": {},
   "outputs": [
    {
     "name": "stdout",
     "output_type": "stream",
     "text": [
      "Minimum number of models needed for 95% ensemble accuracy: 39\n"
     ]
    }
   ],
   "source": [
    "# Define constants\n",
    "individual_accuracy = 0.63  # Accuracy of each individual model\n",
    "target_accuracy = 0.95      # Target ensemble accuracy of 95%\n",
    "\n",
    "# Function to calculate ensemble accuracy for a given number of models\n",
    "def calculate_ensemble_accuracy(n_models):\n",
    "    majority = n_models // 2 + 1  # Majority threshold for an odd number of models\n",
    "    return sum(binom.pmf(k, n_models, individual_accuracy) for k in range(majority, n_models + 1))\n",
    "\n",
    "# Start with the smallest odd number of models and increase\n",
    "n_models = 1\n",
    "while True:\n",
    "    ensemble_accuracy = calculate_ensemble_accuracy(n_models)\n",
    "    \n",
    "    if ensemble_accuracy >= target_accuracy:\n",
    "        break  # Stop when we reach the target accuracy with the smallest odd number of models\n",
    "    \n",
    "    n_models += 2  # Increment by 2 to keep n_models an odd number\n",
    "\n",
    "print(f\"Minimum number of models needed for 95% ensemble accuracy: {n_models}\")"
   ]
  },
  {
   "cell_type": "code",
   "execution_count": null,
   "id": "0cd1b500-dde3-4f8d-8432-c23c5cc9936d",
   "metadata": {},
   "outputs": [],
   "source": []
  },
  {
   "cell_type": "markdown",
   "id": "64736a2b-1121-4c76-8adc-dd714a69e2fc",
   "metadata": {},
   "source": [
    "#### 2a"
   ]
  },
  {
   "cell_type": "code",
   "execution_count": 20,
   "id": "a02f77cc-d7e3-4f18-99e4-7c0bbbf2a589",
   "metadata": {},
   "outputs": [
    {
     "name": "stdout",
     "output_type": "stream",
     "text": [
      "Probability Mass Function for X:\n",
      "   X  P(X)\n",
      "0  1  0.10\n",
      "1  2  0.30\n",
      "2  3  0.20\n",
      "3  4  0.25\n",
      "4  5  0.15\n",
      "\n",
      "Total Probability Sum: 1.0\n"
     ]
    }
   ],
   "source": [
    "import pandas as pd\n",
    "\n",
    "# Define the values that X can take\n",
    "values = [1, 2, 3, 4, 5]\n",
    "\n",
    "# Define a probability distribution that satisfies the PMF conditions\n",
    "# Probabilities must be non-negative and sum to 1\n",
    "probabilities = [0.1, 0.3, 0.2, 0.25, 0.15]  # These probabilities sum to 1\n",
    "\n",
    "# Create a DataFrame to represent the PMF\n",
    "pmf_df = pd.DataFrame({'X': values, 'P(X)': probabilities})\n",
    "\n",
    "# Display the PMF\n",
    "print(\"Probability Mass Function for X:\")\n",
    "print(pmf_df)\n",
    "\n",
    "# Verify that the probabilities sum to 1\n",
    "total_probability = sum(probabilities)\n",
    "print(f\"\\nTotal Probability Sum: {total_probability}\")"
   ]
  },
  {
   "cell_type": "code",
   "execution_count": null,
   "id": "3912ef0e-e559-4e20-946e-ab4c800d0153",
   "metadata": {},
   "outputs": [],
   "source": []
  },
  {
   "cell_type": "markdown",
   "id": "06bbb3ce-abd9-413e-88db-7e79ddc16c54",
   "metadata": {},
   "source": [
    "### 2b"
   ]
  },
  {
   "cell_type": "code",
   "execution_count": 27,
   "id": "019d331e-cbd6-43d3-921d-ccbf166df487",
   "metadata": {},
   "outputs": [
    {
     "name": "stdout",
     "output_type": "stream",
     "text": [
      "Mean of 50 randomly generated X-values: 3.14\n"
     ]
    }
   ],
   "source": [
    "import numpy as np\n",
    "\n",
    "# Define the values that X can take and their associated probabilities\n",
    "values = [1, 2, 3, 4, 5]\n",
    "probabilities = [0.1, 0.3, 0.2, 0.25, 0.15]  # The probabilities from part (a)\n",
    "\n",
    "# Function to generate 50 random X-values from the PMF and return their mean\n",
    "def generate_random_x_mean():\n",
    "    # Generate 50 random samples from the values using the defined probabilities\n",
    "    random_samples = np.random.choice(values, size=50, p=probabilities)\n",
    "    \n",
    "    # Calculate and return the mean of the generated samples\n",
    "    mean_value = np.mean(random_samples)\n",
    "    return mean_value\n",
    "\n",
    "# Example usage: Call the function and display the result\n",
    "mean_of_random_x = generate_random_x_mean()\n",
    "print(f\"Mean of 50 randomly generated X-values: {mean_of_random_x}\")\n"
   ]
  },
  {
   "cell_type": "code",
   "execution_count": null,
   "id": "3e75c944-3d6b-4ec7-8105-f7e95e1edce6",
   "metadata": {},
   "outputs": [],
   "source": []
  },
  {
   "cell_type": "markdown",
   "id": "b3aa8e58-aee8-4fb9-a6d3-d80ebe08021c",
   "metadata": {},
   "source": [
    "### 2c"
   ]
  },
  {
   "cell_type": "code",
   "execution_count": 30,
   "id": "e7cc02ac-1d2e-4649-9c91-6442d1301b21",
   "metadata": {},
   "outputs": [
    {
     "name": "stdout",
     "output_type": "stream",
     "text": [
      "First 10 means of 1,000 trials: [2.96, 2.9, 2.94, 3.12, 3.0, 3.04, 3.22, 3.04, 3.24, 2.72]\n"
     ]
    }
   ],
   "source": [
    "# Function to generate 50 random X-values from the PMF and return their mean\n",
    "def generate_random_x_mean():\n",
    "    random_samples = np.random.choice(values, size=50, p=probabilities)\n",
    "    mean_value = np.mean(random_samples)\n",
    "    return mean_value\n",
    "\n",
    "# Function to run generate_random_x_mean 1,000 times and store the means in a list\n",
    "def run_experiment():\n",
    "    means = []\n",
    "    for _ in range(1000):\n",
    "        mean_value = generate_random_x_mean()\n",
    "        means.append(mean_value)\n",
    "    return means\n",
    "\n",
    "# Run the experiment and store the results\n",
    "means_list = run_experiment()\n",
    "print(\"First 10 means of 1,000 trials:\", means_list[:10])  # Display the first 10 means as a sample\n"
   ]
  },
  {
   "cell_type": "code",
   "execution_count": null,
   "id": "2dc46710-a987-46fb-aac5-4239581e5097",
   "metadata": {},
   "outputs": [],
   "source": []
  },
  {
   "cell_type": "markdown",
   "id": "3c1acfd8-8925-4c31-bd94-f7602ae082d5",
   "metadata": {},
   "source": [
    "### Part 2d"
   ]
  },
  {
   "cell_type": "code",
   "execution_count": 32,
   "id": "38fa059c-f342-470b-a6ce-21e05c5c1131",
   "metadata": {},
   "outputs": [
    {
     "data": {
      "image/png": "[encoded data removed]",
      "text/plain": [
       "<Figure size 640x480 with 1 Axes>"
      ]
     },
     "metadata": {},
     "output_type": "display_data"
    }
   ],
   "source": [
    "import matplotlib.pyplot as plt\n",
    "\n",
    "# Define the values that X can take and their associated probabilities\n",
    "values = [1, 2, 3, 4, 5]\n",
    "probabilities = [0.1, 0.3, 0.2, 0.25, 0.15]  # The probabilities from part (a)\n",
    "\n",
    "# Function to generate 50 random X-values from the PMF and return their mean\n",
    "def generate_random_x_mean():\n",
    "    random_samples = np.random.choice(values, size=50, p=probabilities)\n",
    "    mean_value = np.mean(random_samples)\n",
    "    return mean_value\n",
    "\n",
    "# Function to run generate_random_x_mean 1,000 times and store the means in a list\n",
    "def run_experiment():\n",
    "    means = []\n",
    "    for _ in range(1000):\n",
    "        mean_value = generate_random_x_mean()\n",
    "        means.append(mean_value)\n",
    "    return means\n",
    "\n",
    "# Run the experiment and get the list of means\n",
    "means_list = run_experiment()\n",
    "\n",
    "# Plot the histogram of the means\n",
    "plt.hist(means_list, bins=30, edgecolor='black', density=True)\n",
    "plt.title(\"Histogram of Means from 1,000 Trials\")\n",
    "plt.xlabel(\"Mean of 50 Random X-values\")\n",
    "plt.ylabel(\"Frequency\")\n",
    "plt.show()"
   ]
  },
  {
   "cell_type": "markdown",
   "id": "e10f076f-d7a4-46da-9b29-93daa55e534c",
   "metadata": {},
   "source": [
    "#### Description of the Histogram Shape:\n",
    "#### The histogram will likely show a bell-shaped curve, which resembles a normal distribution. This is due to the Central Limit Theorem (CLT), which states that the distribution of sample means approaches a normal distribution as the sample size becomes large, regardless of the original distribution of the data.\n",
    "\n",
    "#### The CLT applies here because we are averaging 50 samples repeatedly (1,000 times), resulting in a normal-like distribution for the means of the  samples."
   ]
  },
  {
   "cell_type": "code",
   "execution_count": null,
   "id": "af026519-11dc-46c6-b452-6eb673373484",
   "metadata": {},
   "outputs": [],
   "source": []
  },
  {
   "cell_type": "markdown",
   "id": "3b2ce77d-b8e5-4b43-b8ea-80eba416bf6a",
   "metadata": {},
   "source": [
    "### 2e"
   ]
  },
  {
   "cell_type": "code",
   "execution_count": 39,
   "id": "4c580a7f-f7dd-4744-a8d3-5402f5e11b42",
   "metadata": {},
   "outputs": [
    {
     "name": "stdout",
     "output_type": "stream",
     "text": [
      "Sample Mean of Means: 3.04814\n",
      "Sample Standard Deviation of Means: 0.1705888050254178\n",
      "Theoretical Mean: 3.05\n",
      "Theoretical Standard Deviation of Means: 0.17592612085759182\n"
     ]
    }
   ],
   "source": [
    "# Calculate the sample mean and standard deviation of the list of means\n",
    "sample_mean_of_means = np.mean(means_list)\n",
    "sample_std_dev_of_means = np.std(means_list)\n",
    "\n",
    "print(f\"Sample Mean of Means: {sample_mean_of_means}\")\n",
    "print(f\"Sample Standard Deviation of Means: {sample_std_dev_of_means}\")\n",
    "\n",
    "# Calculate theoretical mean and standard deviation\n",
    "theoretical_mean = np.dot(values, probabilities)  # Mean of the PMF\n",
    "theoretical_variance = np.dot((np.array(values) - theoretical_mean) ** 2, probabilities)  # Variance of the PMF\n",
    "theoretical_std_dev_of_means = np.sqrt(theoretical_variance / 50)  # Standard deviation of the mean distribution\n",
    "\n",
    "print(f\"Theoretical Mean: {theoretical_mean}\")\n",
    "print(f\"Theoretical Standard Deviation of Means: {theoretical_std_dev_of_means}\")"
   ]
  },
  {
   "cell_type": "code",
   "execution_count": null,
   "id": "71d24ba7-6a95-407f-a9c5-23827cba418b",
   "metadata": {},
   "outputs": [],
   "source": []
  }
 ],
 "metadata": {
  "kernelspec": {
   "display_name": "Python 3 (ipykernel)",
   "language": "python",
   "name": "python3"
  },
  "language_info": {
   "codemirror_mode": {
    "name": "ipython",
    "version": 3
   },
   "file_extension": ".py",
   "mimetype": "text/x-python",
   "name": "python",
   "nbconvert_exporter": "python",
   "pygments_lexer": "ipython3",
   "version": "3.11.7"
  }
 },
 "nbformat": 4,
 "nbformat_minor": 5
}
