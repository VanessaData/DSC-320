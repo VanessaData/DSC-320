{
 "cells": [
  {
   "cell_type": "markdown",
   "id": "3293a98d-f0df-49a5-9b45-f45a81df98be",
   "metadata": {},
   "source": [
    "# Vanessa Williams\n",
    "## Week 12"
   ]
  },
  {
   "cell_type": "markdown",
   "id": "881a52c6-5f39-4c43-91f4-cb19a31d49d1",
   "metadata": {},
   "source": [
    "### Part 1"
   ]
  },
  {
   "cell_type": "code",
   "execution_count": 1,
   "id": "8eaa0442-b6c2-4e27-9a66-09b8709b2b2a",
   "metadata": {},
   "outputs": [
    {
     "name": "stdout",
     "output_type": "stream",
     "text": [
      "(a) P(A|D) = 0.4390\n",
      "(b) P(C|not D) = 0.2527\n"
     ]
    }
   ],
   "source": [
    "# Given probabilities\n",
    "P_A = 0.3\n",
    "P_B = 0.45\n",
    "P_C = 0.25\n",
    "\n",
    "P_D_given_A = 0.03\n",
    "P_D_given_B = 0.02\n",
    "P_D_given_C = 0.01\n",
    "\n",
    "# Calculate P(D) - total probability of defect\n",
    "P_D = P_A * P_D_given_A + P_B * P_D_given_B + P_C * P_D_given_C\n",
    "\n",
    "# (a) P(A|D) - probability of Process A given defect\n",
    "P_A_given_D = (P_D_given_A * P_A) / P_D\n",
    "\n",
    "# (b) P(C|not D) - probability of Process C given no defect\n",
    "P_not_D_given_C = 1 - P_D_given_C\n",
    "P_not_D = 1 - P_D\n",
    "P_C_given_not_D = (P_not_D_given_C * P_C) / P_not_D\n",
    "\n",
    "print(f\"(a) P(A|D) = {P_A_given_D:.4f}\")\n",
    "print(f\"(b) P(C|not D) = {P_C_given_not_D:.4f}\")"
   ]
  },
  {
   "cell_type": "markdown",
   "id": "e69b4230-cce6-4b1e-9af9-444b72751852",
   "metadata": {},
   "source": [
    "### Part 2 "
   ]
  },
  {
   "cell_type": "code",
   "execution_count": 3,
   "id": "4e7443fb-8342-486f-9422-966ade6a78c1",
   "metadata": {},
   "outputs": [
    {
     "name": "stdout",
     "output_type": "stream",
     "text": [
      "Entropy of fair coin toss: 1.0\n",
      "Entropy of biased die: 2.4464393446710155\n",
      "Entropy of certain event: 0.0\n"
     ]
    }
   ],
   "source": [
    "import math\n",
    "\n",
    "def calculate_entropy(probabilities):\n",
    "\n",
    "    # Check if probabilities sum to 1 (allowing for small floating-point errors)\n",
    "    if not math.isclose(sum(probabilities), 1.0, rel_tol=1e-9):\n",
    "        raise ValueError(\"Probabilities must sum to 1\")\n",
    "    \n",
    "    entropy = 0\n",
    "    for p in probabilities:\n",
    "        if p > 0:  # Avoid log(0) which is undefined\n",
    "            entropy -= p * math.log2(p)\n",
    "    \n",
    "    return entropy\n",
    "\n",
    "# Example usage:\n",
    "if __name__ == \"__main__\":\n",
    "    # Example 1: Fair coin toss\n",
    "    print(\"Entropy of fair coin toss:\", calculate_entropy([0.5, 0.5]))\n",
    "    \n",
    "    # Example 2: Biased die\n",
    "    print(\"Entropy of biased die:\", calculate_entropy([0.1, 0.2, 0.3, 0.1, 0.1, 0.2]))\n",
    "    \n",
    "    # Example 3: Certain event\n",
    "    print(\"Entropy of certain event:\", calculate_entropy([1.0]))"
   ]
  },
  {
   "cell_type": "markdown",
   "id": "3ae22e82-34dc-4abb-8ef0-f8c271763e81",
   "metadata": {},
   "source": [
    "### Part 3"
   ]
  },
  {
   "cell_type": "code",
   "execution_count": 4,
   "id": "38a531e3-68b0-405b-9e90-4ed6cf7ff7ae",
   "metadata": {},
   "outputs": [
    {
     "name": "stdout",
     "output_type": "stream",
     "text": [
      "(a) Entropy of X: 2.3219 bits\n",
      "    Entropy of Y: 2.0464 bits\n",
      "\n",
      "(b) The entropy of X is bigger.\n"
     ]
    }
   ],
   "source": [
    "# Probabilities for X and Y\n",
    "P_X = [0.2, 0.2, 0.2, 0.2, 0.2]\n",
    "P_Y = [0.1, 0.4, 0.1, 0.3, 0.1]\n",
    "\n",
    "# Calculate entropies\n",
    "entropy_X = calculate_entropy(P_X)\n",
    "entropy_Y = calculate_entropy(P_Y)\n",
    "\n",
    "print(f\"(a) Entropy of X: {entropy_X:.4f} bits\")\n",
    "print(f\"    Entropy of Y: {entropy_Y:.4f} bits\")\n",
    "\n",
    "print(f\"\\n(b) The entropy of {'X' if entropy_X > entropy_Y else 'Y'} is bigger.\")"
   ]
  },
  {
   "cell_type": "markdown",
   "id": "1d83f2eb-a4d0-49d3-adc5-5dfce65adf29",
   "metadata": {},
   "source": [
    " X has higher entropy because its uniform distribution represents maximum uncertainty and unpredictability, while Y's non-uniform distribution introduces some level of predictability, reducing its entropy. This aligns with the intuition that a fair die (like X) is more unpredictable than a biased one (like Y)."
   ]
  },
  {
   "cell_type": "code",
   "execution_count": null,
   "id": "6c24d1a3-9413-431b-af87-f0d551e14599",
   "metadata": {},
   "outputs": [],
   "source": []
  }
 ],
 "metadata": {
  "kernelspec": {
   "display_name": "Python 3 (ipykernel)",
   "language": "python",
   "name": "python3"
  },
  "language_info": {
   "codemirror_mode": {
    "name": "ipython",
    "version": 3
   },
   "file_extension": ".py",
   "mimetype": "text/x-python",
   "name": "python",
   "nbconvert_exporter": "python",
   "pygments_lexer": "ipython3",
   "version": "3.11.7"
  }
 },
 "nbformat": 4,
 "nbformat_minor": 5
}
