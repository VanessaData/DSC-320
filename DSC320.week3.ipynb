{
 "cells": [
  {
   "cell_type": "markdown",
   "id": "98359ea6-0c74-424e-a85b-a4f7713e6795",
   "metadata": {},
   "source": [
    "# Vanessa Williams"
   ]
  },
  {
   "cell_type": "markdown",
   "id": "02555524-f835-4d28-916a-4d1001856c8f",
   "metadata": {},
   "source": [
    "# Week 3 Exercise"
   ]
  },
  {
   "cell_type": "markdown",
   "id": "c2fd2ee7-3744-4424-8368-35ebb07b5221",
   "metadata": {},
   "source": [
    "#Importing necessary packages"
   ]
  },
  {
   "cell_type": "code",
   "execution_count": 3,
   "id": "ff19e6d3-7f1b-416f-9d10-25f7de23e5a7",
   "metadata": {},
   "outputs": [],
   "source": [
    "import pandas as pd\n",
    "import numpy as np\n",
    "import matplotlib.pyplot as plt\n",
    "from sklearn.model_selection import train_test_split\n",
    "from sklearn.linear_model import LinearRegression\n",
    "from sklearn.metrics import mean_squared_error, r2_score"
   ]
  },
  {
   "cell_type": "markdown",
   "id": "05d86ea5-4769-4420-8505-9c8756844b82",
   "metadata": {},
   "source": [
    "# Part 1"
   ]
  },
  {
   "cell_type": "markdown",
   "id": "ac2bc143-ac10-4c8e-8373-10cbf5b56519",
   "metadata": {},
   "source": [
    "#Reading in the data"
   ]
  },
  {
   "cell_type": "code",
   "execution_count": 10,
   "id": "b0af120f-ab8d-479a-a75e-27aff7b2c31e",
   "metadata": {},
   "outputs": [
    {
     "data": {
      "text/html": [
       "<div>\n",
       "<style scoped>\n",
       "    .dataframe tbody tr th:only-of-type {\n",
       "        vertical-align: middle;\n",
       "    }\n",
       "\n",
       "    .dataframe tbody tr th {\n",
       "        vertical-align: top;\n",
       "    }\n",
       "\n",
       "    .dataframe thead th {\n",
       "        text-align: right;\n",
       "    }\n",
       "</style>\n",
       "<table border=\"1\" class=\"dataframe\">\n",
       "  <thead>\n",
       "    <tr style=\"text-align: right;\">\n",
       "      <th></th>\n",
       "      <th>year</th>\n",
       "      <th>us_pop</th>\n",
       "    </tr>\n",
       "  </thead>\n",
       "  <tbody>\n",
       "    <tr>\n",
       "      <th>0</th>\n",
       "      <td>1790</td>\n",
       "      <td>3929326</td>\n",
       "    </tr>\n",
       "    <tr>\n",
       "      <th>1</th>\n",
       "      <td>1800</td>\n",
       "      <td>5308483</td>\n",
       "    </tr>\n",
       "    <tr>\n",
       "      <th>2</th>\n",
       "      <td>1810</td>\n",
       "      <td>7239881</td>\n",
       "    </tr>\n",
       "    <tr>\n",
       "      <th>3</th>\n",
       "      <td>1820</td>\n",
       "      <td>9638453</td>\n",
       "    </tr>\n",
       "    <tr>\n",
       "      <th>4</th>\n",
       "      <td>1830</td>\n",
       "      <td>12866020</td>\n",
       "    </tr>\n",
       "    <tr>\n",
       "      <th>5</th>\n",
       "      <td>1840</td>\n",
       "      <td>17069453</td>\n",
       "    </tr>\n",
       "    <tr>\n",
       "      <th>6</th>\n",
       "      <td>1850</td>\n",
       "      <td>23191876</td>\n",
       "    </tr>\n",
       "    <tr>\n",
       "      <th>7</th>\n",
       "      <td>1860</td>\n",
       "      <td>31443321</td>\n",
       "    </tr>\n",
       "    <tr>\n",
       "      <th>8</th>\n",
       "      <td>1870</td>\n",
       "      <td>39818449</td>\n",
       "    </tr>\n",
       "    <tr>\n",
       "      <th>9</th>\n",
       "      <td>1880</td>\n",
       "      <td>50189209</td>\n",
       "    </tr>\n",
       "  </tbody>\n",
       "</table>\n",
       "</div>"
      ],
      "text/plain": [
       "   year    us_pop\n",
       "0  1790   3929326\n",
       "1  1800   5308483\n",
       "2  1810   7239881\n",
       "3  1820   9638453\n",
       "4  1830  12866020\n",
       "5  1840  17069453\n",
       "6  1850  23191876\n",
       "7  1860  31443321\n",
       "8  1870  39818449\n",
       "9  1880  50189209"
      ]
     },
     "execution_count": 10,
     "metadata": {},
     "output_type": "execute_result"
    }
   ],
   "source": [
    "ds = pd.read_csv('us_pop_data.csv')\n",
    "ds.head(10)"
   ]
  },
  {
   "cell_type": "markdown",
   "id": "66fe0734-21eb-4328-916f-f2850db1af79",
   "metadata": {},
   "source": [
    "#In order for each line: -Creating a new column with the count of years since 1970 -Creating a new column with the population in the millions"
   ]
  },
  {
   "cell_type": "code",
   "execution_count": 57,
   "id": "c6bfad3a-0448-477e-b3c1-b2059298d21b",
   "metadata": {},
   "outputs": [
    {
     "data": {
      "text/html": [
       "<div>\n",
       "<style scoped>\n",
       "    .dataframe tbody tr th:only-of-type {\n",
       "        vertical-align: middle;\n",
       "    }\n",
       "\n",
       "    .dataframe tbody tr th {\n",
       "        vertical-align: top;\n",
       "    }\n",
       "\n",
       "    .dataframe thead th {\n",
       "        text-align: right;\n",
       "    }\n",
       "</style>\n",
       "<table border=\"1\" class=\"dataframe\">\n",
       "  <thead>\n",
       "    <tr style=\"text-align: right;\">\n",
       "      <th></th>\n",
       "      <th>year</th>\n",
       "      <th>us_pop</th>\n",
       "      <th>years</th>\n",
       "      <th>population</th>\n",
       "      <th>squared_years</th>\n",
       "    </tr>\n",
       "  </thead>\n",
       "  <tbody>\n",
       "    <tr>\n",
       "      <th>0</th>\n",
       "      <td>1790</td>\n",
       "      <td>3929326</td>\n",
       "      <td>0</td>\n",
       "      <td>3.929326</td>\n",
       "      <td>0</td>\n",
       "    </tr>\n",
       "    <tr>\n",
       "      <th>1</th>\n",
       "      <td>1800</td>\n",
       "      <td>5308483</td>\n",
       "      <td>10</td>\n",
       "      <td>5.308483</td>\n",
       "      <td>100</td>\n",
       "    </tr>\n",
       "    <tr>\n",
       "      <th>2</th>\n",
       "      <td>1810</td>\n",
       "      <td>7239881</td>\n",
       "      <td>20</td>\n",
       "      <td>7.239881</td>\n",
       "      <td>400</td>\n",
       "    </tr>\n",
       "    <tr>\n",
       "      <th>3</th>\n",
       "      <td>1820</td>\n",
       "      <td>9638453</td>\n",
       "      <td>30</td>\n",
       "      <td>9.638453</td>\n",
       "      <td>900</td>\n",
       "    </tr>\n",
       "    <tr>\n",
       "      <th>4</th>\n",
       "      <td>1830</td>\n",
       "      <td>12866020</td>\n",
       "      <td>40</td>\n",
       "      <td>12.866020</td>\n",
       "      <td>1600</td>\n",
       "    </tr>\n",
       "    <tr>\n",
       "      <th>5</th>\n",
       "      <td>1840</td>\n",
       "      <td>17069453</td>\n",
       "      <td>50</td>\n",
       "      <td>17.069453</td>\n",
       "      <td>2500</td>\n",
       "    </tr>\n",
       "    <tr>\n",
       "      <th>6</th>\n",
       "      <td>1850</td>\n",
       "      <td>23191876</td>\n",
       "      <td>60</td>\n",
       "      <td>23.191876</td>\n",
       "      <td>3600</td>\n",
       "    </tr>\n",
       "    <tr>\n",
       "      <th>7</th>\n",
       "      <td>1860</td>\n",
       "      <td>31443321</td>\n",
       "      <td>70</td>\n",
       "      <td>31.443321</td>\n",
       "      <td>4900</td>\n",
       "    </tr>\n",
       "    <tr>\n",
       "      <th>8</th>\n",
       "      <td>1870</td>\n",
       "      <td>39818449</td>\n",
       "      <td>80</td>\n",
       "      <td>39.818449</td>\n",
       "      <td>6400</td>\n",
       "    </tr>\n",
       "    <tr>\n",
       "      <th>9</th>\n",
       "      <td>1880</td>\n",
       "      <td>50189209</td>\n",
       "      <td>90</td>\n",
       "      <td>50.189209</td>\n",
       "      <td>8100</td>\n",
       "    </tr>\n",
       "  </tbody>\n",
       "</table>\n",
       "</div>"
      ],
      "text/plain": [
       "   year    us_pop  years  population  squared_years\n",
       "0  1790   3929326      0    3.929326              0\n",
       "1  1800   5308483     10    5.308483            100\n",
       "2  1810   7239881     20    7.239881            400\n",
       "3  1820   9638453     30    9.638453            900\n",
       "4  1830  12866020     40   12.866020           1600\n",
       "5  1840  17069453     50   17.069453           2500\n",
       "6  1850  23191876     60   23.191876           3600\n",
       "7  1860  31443321     70   31.443321           4900\n",
       "8  1870  39818449     80   39.818449           6400\n",
       "9  1880  50189209     90   50.189209           8100"
      ]
     },
     "execution_count": 57,
     "metadata": {},
     "output_type": "execute_result"
    }
   ],
   "source": [
    "#Calculate the values of the new column, 'years'\n",
    "ds['years'] = ds['year'] - 1790\n",
    "#Calulate the values of the new column, 'population'\n",
    "ds['population'] = ds['us_pop'] / 1_000_000\n",
    "ds.head(10)"
   ]
  },
  {
   "cell_type": "markdown",
   "id": "a0473fc3-5346-4d05-99d6-a3f7a5c8fee4",
   "metadata": {},
   "source": [
    "#Plotting the Years(x_value) vs Population(y_value)"
   ]
  },
  {
   "cell_type": "code",
   "execution_count": 17,
   "id": "db12868f-84cb-4585-9c4f-5ae3f29f9863",
   "metadata": {},
   "outputs": [
    {
     "data": {
      "text/plain": [
       "Text(0, 0.5, 'Population')"
      ]
     },
     "execution_count": 17,
     "metadata": {},
     "output_type": "execute_result"
    },
    {
     "data": {
      "image/png": "[encoded data removed]",
      "text/plain": [
       "<Figure size 640x480 with 1 Axes>"
      ]
     },
     "metadata": {},
     "output_type": "display_data"
    }
   ],
   "source": [
    "plt.scatter(ds.years,ds.population)\n",
    "plt.xlabel('Year')\n",
    "plt.ylabel('Population')"
   ]
  },
  {
   "cell_type": "markdown",
   "id": "1c8481a6-cd57-4172-a16d-4c71b0a8585e",
   "metadata": {},
   "source": [
    "#Preparing data: \n",
    "-Independent values (years) -Dependant values (population)"
   ]
  },
  {
   "cell_type": "code",
   "execution_count": 20,
   "id": "0e9c5429-1fd1-4414-9670-542e58b0b97e",
   "metadata": {},
   "outputs": [],
   "source": [
    "x = ds['years'].values.reshape(-1,1)\n",
    "y = ds['population'].values"
   ]
  },
  {
   "cell_type": "markdown",
   "id": "5f6db15f-ec64-4d15-a04c-9a49982d7d90",
   "metadata": {},
   "source": [
    "#In order for each line:\n",
    "-Splitting the data into training and testing sets\n",
    "-Creating and training the model\n",
    "-Make the prediction\n",
    "-Evaluating the model\n",
    "-Printing the R² value"
   ]
  },
  {
   "cell_type": "code",
   "execution_count": 63,
   "id": "96387d81-e6dd-446d-8e28-9887aa824594",
   "metadata": {
    "scrolled": true
   },
   "outputs": [
    {
     "name": "stdout",
     "output_type": "stream",
     "text": [
      "R^2 Score: 0.6949714808709466\n"
     ]
    }
   ],
   "source": [
    "#Split the data into train and test datasets\n",
    "x_train, x_test, y_train, y_test = train_test_split(x, y, random_state=42)\n",
    "#Create a linear regression model and fit x_train, y_train data \n",
    "model = LinearRegression()\n",
    "model.fit(x_train, y_train)\n",
    "#Predict using the x_test data\n",
    "y_pred = model.predict(x_test)\n",
    "#Calculate the R^2\n",
    "r2 = r2_score(y_test, y_pred)\n",
    "print(f'R^2 Score: {r2}')"
   ]
  },
  {
   "cell_type": "markdown",
   "id": "e0051fba-5d8c-4610-8e31-a80e92f88743",
   "metadata": {},
   "source": [
    "#Creating another column that is the square of"
   ]
  },
  {
   "cell_type": "code",
   "execution_count": 28,
   "id": "5f686123-704a-4818-8f23-61347aba9cf6",
   "metadata": {},
   "outputs": [
    {
     "data": {
      "text/html": [
       "<div>\n",
       "<style scoped>\n",
       "    .dataframe tbody tr th:only-of-type {\n",
       "        vertical-align: middle;\n",
       "    }\n",
       "\n",
       "    .dataframe tbody tr th {\n",
       "        vertical-align: top;\n",
       "    }\n",
       "\n",
       "    .dataframe thead th {\n",
       "        text-align: right;\n",
       "    }\n",
       "</style>\n",
       "<table border=\"1\" class=\"dataframe\">\n",
       "  <thead>\n",
       "    <tr style=\"text-align: right;\">\n",
       "      <th></th>\n",
       "      <th>year</th>\n",
       "      <th>us_pop</th>\n",
       "      <th>years</th>\n",
       "      <th>population</th>\n",
       "      <th>squared_years</th>\n",
       "    </tr>\n",
       "  </thead>\n",
       "  <tbody>\n",
       "    <tr>\n",
       "      <th>0</th>\n",
       "      <td>1790</td>\n",
       "      <td>3929326</td>\n",
       "      <td>0</td>\n",
       "      <td>3.929326</td>\n",
       "      <td>0</td>\n",
       "    </tr>\n",
       "    <tr>\n",
       "      <th>1</th>\n",
       "      <td>1800</td>\n",
       "      <td>5308483</td>\n",
       "      <td>10</td>\n",
       "      <td>5.308483</td>\n",
       "      <td>100</td>\n",
       "    </tr>\n",
       "    <tr>\n",
       "      <th>2</th>\n",
       "      <td>1810</td>\n",
       "      <td>7239881</td>\n",
       "      <td>20</td>\n",
       "      <td>7.239881</td>\n",
       "      <td>400</td>\n",
       "    </tr>\n",
       "    <tr>\n",
       "      <th>3</th>\n",
       "      <td>1820</td>\n",
       "      <td>9638453</td>\n",
       "      <td>30</td>\n",
       "      <td>9.638453</td>\n",
       "      <td>900</td>\n",
       "    </tr>\n",
       "    <tr>\n",
       "      <th>4</th>\n",
       "      <td>1830</td>\n",
       "      <td>12866020</td>\n",
       "      <td>40</td>\n",
       "      <td>12.866020</td>\n",
       "      <td>1600</td>\n",
       "    </tr>\n",
       "    <tr>\n",
       "      <th>5</th>\n",
       "      <td>1840</td>\n",
       "      <td>17069453</td>\n",
       "      <td>50</td>\n",
       "      <td>17.069453</td>\n",
       "      <td>2500</td>\n",
       "    </tr>\n",
       "    <tr>\n",
       "      <th>6</th>\n",
       "      <td>1850</td>\n",
       "      <td>23191876</td>\n",
       "      <td>60</td>\n",
       "      <td>23.191876</td>\n",
       "      <td>3600</td>\n",
       "    </tr>\n",
       "    <tr>\n",
       "      <th>7</th>\n",
       "      <td>1860</td>\n",
       "      <td>31443321</td>\n",
       "      <td>70</td>\n",
       "      <td>31.443321</td>\n",
       "      <td>4900</td>\n",
       "    </tr>\n",
       "    <tr>\n",
       "      <th>8</th>\n",
       "      <td>1870</td>\n",
       "      <td>39818449</td>\n",
       "      <td>80</td>\n",
       "      <td>39.818449</td>\n",
       "      <td>6400</td>\n",
       "    </tr>\n",
       "    <tr>\n",
       "      <th>9</th>\n",
       "      <td>1880</td>\n",
       "      <td>50189209</td>\n",
       "      <td>90</td>\n",
       "      <td>50.189209</td>\n",
       "      <td>8100</td>\n",
       "    </tr>\n",
       "  </tbody>\n",
       "</table>\n",
       "</div>"
      ],
      "text/plain": [
       "   year    us_pop  years  population  squared_years\n",
       "0  1790   3929326      0    3.929326              0\n",
       "1  1800   5308483     10    5.308483            100\n",
       "2  1810   7239881     20    7.239881            400\n",
       "3  1820   9638453     30    9.638453            900\n",
       "4  1830  12866020     40   12.866020           1600\n",
       "5  1840  17069453     50   17.069453           2500\n",
       "6  1850  23191876     60   23.191876           3600\n",
       "7  1860  31443321     70   31.443321           4900\n",
       "8  1870  39818449     80   39.818449           6400\n",
       "9  1880  50189209     90   50.189209           8100"
      ]
     },
     "execution_count": 28,
     "metadata": {},
     "output_type": "execute_result"
    }
   ],
   "source": [
    "ds['squared_years'] = ds['years']**2\n",
    "ds.head(10)"
   ]
  },
  {
   "cell_type": "markdown",
   "id": "117edae1-5045-4d6c-ac98-db4dd30ce457",
   "metadata": {},
   "source": [
    "#In order for each line:\n",
    "-Splitting the data into training and testing sets\n",
    "-Creating and training the model\n",
    "-Make the prediction\n",
    "-Evaluating the model\n",
    "-Printing the R² value\n"
   ]
  },
  {
   "cell_type": "code",
   "execution_count": 61,
   "id": "cb5a3077-361d-4622-acab-d62da119626a",
   "metadata": {},
   "outputs": [
    {
     "name": "stdout",
     "output_type": "stream",
     "text": [
      "R^2 Score: 0.9944697996880941\n"
     ]
    }
   ],
   "source": [
    "#Split the data into train and test datasets\n",
    "x_value = ds['squared_years'].values.reshape(-1,1)\n",
    "#Create a linear regression model and fit using x_tr, y_tr data \n",
    "x_tr, x_ts, y_tr, y_ts = train_test_split(x_value, y, random_state=42)\n",
    "model = LinearRegression()\n",
    "model.fit(x_tr, y_tr)\n",
    "#Predict using the x_tr data\n",
    "y_predict = model.predict(x_ts)\n",
    "#Calculate the R^2\n",
    "r_square = r2_score(y_ts, y_predict)\n",
    "print(f'R^2 Score: {r_square}')"
   ]
  },
  {
   "cell_type": "markdown",
   "id": "9eb23cf4-5d0d-4841-8d33-6d7c784a146e",
   "metadata": {},
   "source": [
    "#Below: I am plotting the data of each linear regression created and comparing them to each other\n",
    "It is very evident that the regression line for the squared years is far off from the data. This is also\n",
    "apparant in the R² values for each line"
   ]
  },
  {
   "cell_type": "code",
   "execution_count": 34,
   "id": "194b4f17-7c6e-470b-882f-1bb274e9a1c2",
   "metadata": {},
   "outputs": [
    {
     "data": {
      "image/png": "[encoded data removed]",
      "text/plain": [
       "<Figure size 640x480 with 1 Axes>"
      ]
     },
     "metadata": {},
     "output_type": "display_data"
    }
   ],
   "source": [
    "plt.scatter(x_test, y_test, color='black', label='Actual data')\n",
    "plt.plot(x_test, y_pred, color='blue', linewidth=3, label='Predicted line')\n",
    "plt.xlabel('Year')\n",
    "plt.ylabel('Population')\n",
    "plt.title('US Population Prediction')\n",
    "plt.legend()\n",
    "plt.show()"
   ]
  },
  {
   "cell_type": "code",
   "execution_count": 40,
   "id": "e83028bb-7501-4fd2-ade9-7e08e44cb7e1",
   "metadata": {},
   "outputs": [
    {
     "data": {
      "image/png": "[encoded data removed]",
      "text/plain": [
       "<Figure size 640x480 with 1 Axes>"
      ]
     },
     "metadata": {},
     "output_type": "display_data"
    }
   ],
   "source": [
    "plt.scatter(x_tr, y_tr, color='black', label='Actual data')\n",
    "plt.plot(x_ts, y_predict, color='orange', linewidth=3, label='Predicted line of␣ ↪squared years')\n",
    "plt.xlabel('Year')\n",
    "plt.ylabel('Population')\n",
    "plt.title('US Population Prediction of Squared Years')\n",
    "plt.legend()\n",
    "plt.show()"
   ]
  },
  {
   "cell_type": "markdown",
   "id": "c8835123-4a1c-4c9b-a166-cd281e0873d8",
   "metadata": {},
   "source": [
    "#Answer: The second linear regression model looks better. More data points are on the line or very close to the line. \n",
    "#The second regression model is better. \n",
    "#This is reflective in the R^2. R^2 of the first model equals  0.6949714808709466\n",
    "#R^2 of the second models equals: 0.9944697996880941. \n",
    "#The second R^2 > first R^2. Therefore, the second model is better. "
   ]
  },
  {
   "cell_type": "markdown",
   "id": "36cf8906-949a-4dd4-a6fe-167944facc42",
   "metadata": {},
   "source": [
    "# Part 2"
   ]
  },
  {
   "cell_type": "markdown",
   "id": "fbd9017e-9960-4233-b55e-c2a75eaba45f",
   "metadata": {},
   "source": [
    "#Importing customer spending data from file upload"
   ]
  },
  {
   "cell_type": "code",
   "execution_count": 42,
   "id": "22bce0fd-3597-4939-a54f-ed58597c0df0",
   "metadata": {},
   "outputs": [
    {
     "name": "stdout",
     "output_type": "stream",
     "text": [
      "     ann_spending\n",
      "0           34112\n",
      "1           33266\n",
      "2           36610\n",
      "3           27381\n",
      "4           46100\n",
      "..            ...\n",
      "435         73302\n",
      "436         48372\n",
      "437         77407\n",
      "438         17834\n",
      "439          7589\n",
      "\n",
      "[440 rows x 1 columns]\n"
     ]
    }
   ],
   "source": [
    "df = pd.read_csv('customer_spending.csv')\n",
    "print(df)"
   ]
  },
  {
   "cell_type": "code",
   "execution_count": 44,
   "id": "b6382417-6b1d-4d24-ab06-b7762ca44ea8",
   "metadata": {},
   "outputs": [
    {
     "data": {
      "text/plain": [
       "(array([150., 179.,  69.,  24.,   7.,   4.,   1.,   1.,   1.,   4.]),\n",
       " array([   904. ,  20802.7,  40701.4,  60600.1,  80498.8, 100397.5,\n",
       "        120296.2, 140194.9, 160093.6, 179992.3, 199891. ]),\n",
       " <BarContainer object of 10 artists>)"
      ]
     },
     "execution_count": 44,
     "metadata": {},
     "output_type": "execute_result"
    },
    {
     "data": {
      "image/png": "[encoded data removed]",
      "text/plain": [
       "<Figure size 640x480 with 1 Axes>"
      ]
     },
     "metadata": {},
     "output_type": "display_data"
    }
   ],
   "source": [
    "data = (df.ann_spending)\n",
    "plt.hist(data)"
   ]
  },
  {
   "cell_type": "code",
   "execution_count": 48,
   "id": "9cd37075-7947-4b94-996c-453d666fa882",
   "metadata": {},
   "outputs": [
    {
     "data": {
      "text/plain": [
       "(array([  1.,   2.,   6.,   8.,  53., 103., 153.,  86.,  20.,   8.]),\n",
       " array([ 9.82017896, 10.59904647, 11.37791397, 12.15678147, 12.93564897,\n",
       "        13.71451648, 14.49338398, 15.27225148, 16.05111899, 16.82998649,\n",
       "        17.60885399]),\n",
       " <BarContainer object of 10 artists>)"
      ]
     },
     "execution_count": 48,
     "metadata": {},
     "output_type": "execute_result"
    },
    {
     "data": {
      "image/png": "[encoded data removed]",
      "text/plain": [
       "<Figure size 640x480 with 1 Axes>"
      ]
     },
     "metadata": {},
     "output_type": "display_data"
    }
   ],
   "source": [
    "data = np.log2(df.ann_spending)\n",
    "plt.hist(data)"
   ]
  },
  {
   "cell_type": "markdown",
   "id": "5eb80c46-2c5d-4175-9255-2366ae4c4988",
   "metadata": {},
   "source": [
    "#Answer: the log transformation reduces or removes the skewness of our original data. log transformation is very easy to apply and quite beneficial for statistical modeling. The histogram looks more like a normal distribution with the log data."
   ]
  },
  {
   "cell_type": "code",
   "execution_count": null,
   "id": "ae7134e2-076a-46b9-8137-06d784b14bd9",
   "metadata": {},
   "outputs": [],
   "source": []
  },
  {
   "cell_type": "code",
   "execution_count": null,
   "id": "53615274-d927-4652-8afd-0abfc5a02ae6",
   "metadata": {},
   "outputs": [],
   "source": []
  }
 ],
 "metadata": {
  "kernelspec": {
   "display_name": "Python 3 (ipykernel)",
   "language": "python",
   "name": "python3"
  },
  "language_info": {
   "codemirror_mode": {
    "name": "ipython",
    "version": 3
   },
   "file_extension": ".py",
   "mimetype": "text/x-python",
   "name": "python",
   "nbconvert_exporter": "python",
   "pygments_lexer": "ipython3",
   "version": "3.11.7"
  }
 },
 "nbformat": 4,
 "nbformat_minor": 5
}
