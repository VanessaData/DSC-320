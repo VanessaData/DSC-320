{
 "cells": [
  {
   "cell_type": "markdown",
   "id": "0e1e88ec-6bda-46a0-93ab-db85a5b7b604",
   "metadata": {},
   "source": [
    "# Vanessa Williams\n",
    "# Week 6"
   ]
  },
  {
   "cell_type": "markdown",
   "id": "591e6127-f3bc-452b-97fa-0a57bca3ccff",
   "metadata": {},
   "source": [
    "### Part 1: . Data Normalization"
   ]
  },
  {
   "cell_type": "code",
   "execution_count": 7,
   "id": "5a2028b1-b183-4588-8dbc-9dabaab2671d",
   "metadata": {},
   "outputs": [
    {
     "data": {
      "text/plain": [
       "0    0.539668\n",
       "1    0.538027\n",
       "2    0.466028\n",
       "3    0.354699\n",
       "4    0.230776\n",
       "Name: median_income, dtype: float64"
      ]
     },
     "execution_count": 7,
     "metadata": {},
     "output_type": "execute_result"
    }
   ],
   "source": [
    "import pandas as pd\n",
    "\n",
    "# Load the new data from the provided file\n",
    "file_path = 'calif_housing_data.csv.csv'\n",
    "\n",
    "# Reading the new CSV file to inspect its contents\n",
    "data = pd.read_csv(file_path)\n",
    "\n",
    "# Displaying the first few rows of the new data to understand its structure\n",
    "data.head()\n",
    "\n",
    "# Defining the normalization function\n",
    "def normalize_vector(vector):\n",
    "    min_val = vector.min()\n",
    "    max_val = vector.max()\n",
    "    normalized = (vector - min_val) / (max_val - min_val)\n",
    "    return normalized\n",
    "\n",
    "# Normalizing the 'median_income' column from the dataset\n",
    "normalized_median_income = normalize_vector(data['median_income'])\n",
    "\n",
    "# Displaying the first few values of the normalized column\n",
    "normalized_median_income.head()\n"
   ]
  },
  {
   "cell_type": "code",
   "execution_count": null,
   "id": "3f2b044b-0160-4cb7-9b53-e9efc4079be7",
   "metadata": {},
   "outputs": [],
   "source": []
  },
  {
   "cell_type": "markdown",
   "id": "b1916e24-9233-44d9-a5ab-9c52fd1df511",
   "metadata": {},
   "source": [
    "### Part 2: Data Standardization"
   ]
  },
  {
   "cell_type": "code",
   "execution_count": 12,
   "id": "14c642a9-a1be-4e87-b86c-e923589f1255",
   "metadata": {},
   "outputs": [
    {
     "name": "stdout",
     "output_type": "stream",
     "text": [
      "0    2.344709\n",
      "1    2.332181\n",
      "2    1.782656\n",
      "3    0.932945\n",
      "4   -0.012881\n",
      "Name: median_income, dtype: float64\n"
     ]
    }
   ],
   "source": [
    "import pandas as pd\n",
    "\n",
    "# Load the CSV file\n",
    "file_path = 'calif_housing_data.csv.csv'\n",
    "data = pd.read_csv(file_path)\n",
    "\n",
    "# Define the function that standardizes a vector (array)\n",
    "def standardize_vector(vector):\n",
    "    mean_val = vector.mean()\n",
    "    std_val = vector.std()\n",
    "    standardized = (vector - mean_val) / std_val\n",
    "    return standardized\n",
    "\n",
    "# Standardize the 'median_income' column as an example\n",
    "standardized_median_income = standardize_vector(data['median_income'])\n",
    "\n",
    "# Display the first few values of the standardized column\n",
    "print(standardized_median_income.head())\n"
   ]
  },
  {
   "cell_type": "code",
   "execution_count": null,
   "id": "f1be5ff6-fa74-4217-bc71-cbb175e17bec",
   "metadata": {},
   "outputs": [],
   "source": []
  },
  {
   "cell_type": "markdown",
   "id": "69c80ada-cb8b-4db5-bbf5-09ea2ee6700a",
   "metadata": {},
   "source": [
    "### Section 3: Questions"
   ]
  },
  {
   "cell_type": "markdown",
   "id": "3e021017-b6d1-4b31-8cd4-946842e2dfb8",
   "metadata": {},
   "source": [
    "#### A: How many rows does this data set have?"
   ]
  },
  {
   "cell_type": "code",
   "execution_count": 16,
   "id": "5700d3a7-a089-4a55-81f2-9baf00ae70df",
   "metadata": {},
   "outputs": [
    {
     "name": "stdout",
     "output_type": "stream",
     "text": [
      "20640\n"
     ]
    }
   ],
   "source": [
    "# Get the number of rows in the dataset\n",
    "num_rows = data.shape[0]\n",
    "\n",
    "# Print the number of rows\n",
    "print(num_rows)"
   ]
  },
  {
   "cell_type": "markdown",
   "id": "d5b89249-b97d-4bb4-be7f-c0e3fb34af1a",
   "metadata": {},
   "source": [
    "#### B: Get the number of rows in the dataset"
   ]
  },
  {
   "cell_type": "code",
   "execution_count": 20,
   "id": "16b5648a-e0f1-43fc-a731-522359998ecd",
   "metadata": {},
   "outputs": [
    {
     "name": "stdout",
     "output_type": "stream",
     "text": [
      "0    452600.0\n",
      "1    358500.0\n",
      "2    352100.0\n",
      "3    341300.0\n",
      "4    342200.0\n",
      "Name: median_house_value, dtype: float64\n"
     ]
    }
   ],
   "source": [
    "# Extract the target vector (median_house_value)\n",
    "target_vector = data['median_house_value']\n",
    "\n",
    "# Display the first few values of the target vector\n",
    "print(target_vector.head())"
   ]
  },
  {
   "cell_type": "markdown",
   "id": "df39a53d-fd94-4e61-9563-3c415de97317",
   "metadata": {},
   "source": [
    "#### C: Create a new feature by taking the total bedrooms divided by the number of households. What does this new feature represent?"
   ]
  },
  {
   "cell_type": "code",
   "execution_count": 23,
   "id": "891784e5-3040-4c98-adc6-656c927bf1b7",
   "metadata": {},
   "outputs": [
    {
     "name": "stdout",
     "output_type": "stream",
     "text": [
      "   total_bedrooms  households  bedrooms_per_household\n",
      "0           129.0         126                1.023810\n",
      "1          1106.0        1138                0.971880\n",
      "2           190.0         177                1.073446\n",
      "3           235.0         219                1.073059\n",
      "4           280.0         259                1.081081\n"
     ]
    }
   ],
   "source": [
    "# Create a new feature by dividing total_bedrooms by households\n",
    "data['bedrooms_per_household'] = data['total_bedrooms'] / data['households']\n",
    "\n",
    "# Display the first few rows of the new feature\n",
    "print(data[['total_bedrooms', 'households', 'bedrooms_per_household']].head())"
   ]
  },
  {
   "cell_type": "markdown",
   "id": "71121846-ed57-4180-aae6-0ce11e06ebfc",
   "metadata": {},
   "source": [
    "#### The new feature, bedrooms_per_household, has been created by dividing total_bedrooms by households. This feature represents the average number of bedrooms per household in each observation.\n",
    "#### This feature can give insights into the housing density and living space available for each household in a given area"
   ]
  },
  {
   "cell_type": "code",
   "execution_count": null,
   "id": "7d4df858-2280-4355-ba05-2e309894b7b6",
   "metadata": {},
   "outputs": [],
   "source": []
  },
  {
   "cell_type": "markdown",
   "id": "460ea2a5-6fda-4eab-bb4d-bec2d8256457",
   "metadata": {},
   "source": [
    "#### D: Now, create a new data frame that has three features: the median age, median income, and the new feature created in part (c)"
   ]
  },
  {
   "cell_type": "code",
   "execution_count": 27,
   "id": "80d47282-5d8f-46d5-b11e-2ac5fe7fd0f6",
   "metadata": {},
   "outputs": [
    {
     "name": "stdout",
     "output_type": "stream",
     "text": [
      "   housing_median_age  median_income  bedrooms_per_household\n",
      "0                  41         8.3252                1.023810\n",
      "1                  21         8.3014                0.971880\n",
      "2                  52         7.2574                1.073446\n",
      "3                  52         5.6431                1.073059\n",
      "4                  52         3.8462                1.081081\n"
     ]
    }
   ],
   "source": [
    "# Create a new DataFrame with three features: 'housing_median_age', 'median_income', and 'bedrooms_per_household'\n",
    "selected_features_df = data[['housing_median_age', 'median_income', 'bedrooms_per_household']]\n",
    "\n",
    "# Display the first few rows of the new DataFrame\n",
    "print(selected_features_df.head())"
   ]
  },
  {
   "cell_type": "code",
   "execution_count": null,
   "id": "07abac19-35f6-41ee-b4e1-a15875ed4062",
   "metadata": {},
   "outputs": [],
   "source": []
  },
  {
   "cell_type": "markdown",
   "id": "d54669d5-159e-41bb-89e7-c818fa1d3499",
   "metadata": {},
   "source": [
    "#### E: Take the data frame new and apply data standardization to the features"
   ]
  },
  {
   "cell_type": "code",
   "execution_count": 30,
   "id": "f7b23116-d6f6-4ec1-b1a7-5675a7613752",
   "metadata": {},
   "outputs": [
    {
     "name": "stdout",
     "output_type": "stream",
     "text": [
      "   housing_median_age  median_income  bedrooms_per_household\n",
      "0            0.982119       2.344709               -0.153859\n",
      "1           -0.607004       2.332181               -0.262930\n",
      "2            1.856137       1.782656               -0.049603\n",
      "3            1.856137       0.932945               -0.050416\n",
      "4            1.856137      -0.012881               -0.033567\n"
     ]
    }
   ],
   "source": [
    "# Applying data standardization to the selected features DataFrame\n",
    "standardized_df = selected_features_df.apply(lambda x: (x - x.mean()) / x.std())\n",
    "\n",
    "# Display the first few rows of the standardized DataFrame\n",
    "print(standardized_df.head())"
   ]
  },
  {
   "cell_type": "code",
   "execution_count": null,
   "id": "d9953d21-45f2-42fe-a5ec-90c6565844a6",
   "metadata": {},
   "outputs": [],
   "source": []
  }
 ],
 "metadata": {
  "kernelspec": {
   "display_name": "Python 3 (ipykernel)",
   "language": "python",
   "name": "python3"
  },
  "language_info": {
   "codemirror_mode": {
    "name": "ipython",
    "version": 3
   },
   "file_extension": ".py",
   "mimetype": "text/x-python",
   "name": "python",
   "nbconvert_exporter": "python",
   "pygments_lexer": "ipython3",
   "version": "3.11.7"
  }
 },
 "nbformat": 4,
 "nbformat_minor": 5
}
